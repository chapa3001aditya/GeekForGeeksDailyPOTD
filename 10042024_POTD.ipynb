{
 "cells": [
  {
   "cell_type": "markdown",
   "metadata": {},
   "source": [
    "Party of Couples\n",
    "EasyAccuracy: 50.5%Submissions: 78K+Points: 2\n",
    "You are given an integer array arr[] of size n, representing n number of people in a party, each person is denoted by an integer. Couples are represented by the same number ie: two people have the same integer value, it means they are a couple. Find out the only single person in the party of couples.\n",
    "\n",
    "NOTE: It is guarantee that there exist only one single person in the party.\n",
    "\n",
    "Example 1:\n",
    "\n",
    "Input: \n",
    "n = 5\n",
    "arr = {1, 2, 3, 2, 1}\n",
    "Output: \n",
    "3\n",
    "Explaination: Only the number 3 is single.\n",
    "Example 2:\n",
    "\n",
    "Input: \n",
    "n = 11 \n",
    "arr = {1, 2, 3, 5, 3, 2, 1, 4, 5, 6, 6} \n",
    "Output: \n",
    "4 \n",
    "Explaination: 4 is the only single.\n",
    "Your Task:\n",
    "You do not need to read input or print anything. Your task is to complete the function findSingle() which takes the size of the array n and the array arr[] as input parameters and returns the only single person.\n",
    "\n",
    "Expected Time Complexity: O(n)\n",
    "Expected Auxiliary Space: O(1)\n",
    "\n",
    "Constraints:\n",
    "1 ≤ n ≤ 104\n",
    "1 ≤ arr[i] ≤ 106"
   ]
  },
  {
   "cell_type": "code",
   "execution_count": null,
   "metadata": {},
   "outputs": [],
   "source": [
    "#User function Template for python3\n",
    "\n",
    "class Solution:\n",
    "    def findSingle(self, n, arr):\n",
    "        # code here\n",
    "        better_luck_nxt_tym = list()\n",
    "        for i in range(n):\n",
    "            if arr[i] not in better_luck_nxt_tym:\n",
    "                better_luck_nxt_tym.append(arr[i])\n",
    "            else:\n",
    "                better_luck_nxt_tym.remove(arr[i])\n",
    "        return better_luck_nxt_tym[0]\n",
    "\n",
    "\n",
    "#{ \n",
    " # Driver Code Starts\n",
    "#Initial Template for Python 3\n",
    "\n",
    "if __name__ == '__main__': \n",
    "    t = int (input ())\n",
    "    for _ in range (t):\n",
    "        N = int(input())\n",
    "        arr = input().split()\n",
    "        for itr in range(N):\n",
    "            arr[itr] = int(arr[itr])\n",
    "        \n",
    "        ob = Solution()\n",
    "        print(ob.findSingle(N, arr))\n",
    "\n",
    "# } Driver Code Ends"
   ]
  }
 ],
 "metadata": {
  "language_info": {
   "name": "python"
  }
 },
 "nbformat": 4,
 "nbformat_minor": 2
}
