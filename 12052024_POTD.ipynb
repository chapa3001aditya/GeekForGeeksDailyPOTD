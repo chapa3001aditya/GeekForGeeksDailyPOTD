{
 "cells": [
  {
   "cell_type": "markdown",
   "metadata": {},
   "source": [
    "Minimum steps to destination\n",
    "\n",
    "MediumAccuracy: 31.77%Submissions: 22K+Points: 4\n",
    "\n",
    "Given an infinite number line. You start at 0 and can go either to the left or to the right. The condition is that in the ith move, you must take i steps. Given a destination d, find the minimum number of steps required to reach that destination.\n",
    "\n",
    "Example 1:\n",
    "\n",
    "Input: d = 2\n",
    "\n",
    "Output: 3\n",
    "\n",
    "Explaination: The steps takn are +1, -2 and +3.\n",
    "\n",
    "Example 2:\n",
    "\n",
    "Input: d = 10\n",
    "\n",
    "Output: 4\n",
    "\n",
    "Explaination: The steps are +1, +2, +3 and +4.\n",
    "\n",
    "Your Task:\n",
    "\n",
    "You do not need to read input or print anything. Your task is to complete the function minSteps() which takes the value d as input parameter and returns the minimum number of steps required to reach the destination d from 0.\n",
    "\n",
    "Expected Time Complexity: O(d)\n",
    "\n",
    "Expected Auxiliary Space: O(1)\n",
    "\n",
    "Constraints:\n",
    "\n",
    "1 ≤ d ≤ 10000"
   ]
  },
  {
   "cell_type": "code",
   "execution_count": null,
   "metadata": {},
   "outputs": [],
   "source": [
    "#User function Template for python3\n",
    "\n",
    "class Solution:\n",
    "    def minSteps(self, d):\n",
    "\n",
    "        target = abs(d)\n",
    "        sum = 0\n",
    "        step = 0\n",
    "\n",
    "        while (sum < target or (sum - target) % 2 != 0):\n",
    "            step += 1\n",
    "            sum += step\n",
    "            \n",
    "        return step\n",
    "\n",
    "\n",
    "#{ \n",
    " # Driver Code Starts\n",
    "#Initial Template for Python 3\n",
    "\n",
    "if __name__ == '__main__':\n",
    "    t = int(input())\n",
    "    for _ in range(t):\n",
    "        d = int(input())\n",
    "\n",
    "        ob = Solution()\n",
    "        print(ob.minSteps(d))\n",
    "\n",
    "# } Driver Code Ends"
   ]
  }
 ],
 "metadata": {
  "language_info": {
   "name": "python"
  }
 },
 "nbformat": 4,
 "nbformat_minor": 2
}
