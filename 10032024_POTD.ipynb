{
 "cells": [
  {
   "cell_type": "markdown",
   "metadata": {},
   "source": [
    "Remove all duplicates from a given string\n",
    "EasyAccuracy: 58.68%Submissions: 80K+Points: 2\n",
    "Internship Alert!\n",
    "New month-> Fresh Chance to top the leaderboard and get SDE Internship! \n",
    "\n",
    "banner\n",
    "Given a string str which may contain lowercase and uppercase characters. The task is to remove all duplicate characters from the string and find the resultant string. The order of remaining characters in the output should be same as in the original string.\n",
    "\n",
    "Example 1:\n",
    "\n",
    "Input:\n",
    "str = \"geEksforGEeks\"\n",
    "Output: \n",
    "\"geEksforG\"\n",
    "Explanation: \n",
    "After removing duplicate characters such as E, e, k, s, we have string as \"geEksforG\".\n",
    "Example 2:\n",
    "\n",
    "Input:\n",
    "str = \"HaPpyNewYear\"\n",
    "Output: \n",
    "\"HaPpyNewYr\"\n",
    "Explanation: \n",
    "After removing duplicate characters such as e, a, we have string as \"HaPpyNewYr\".\n",
    "Your Task:\n",
    "Complete the function removeDuplicates() which takes a string str, as input parameters and returns a string denoting the answer. You don't have to print answer or take inputs.\n",
    "\n",
    "Expected Time Complexity: O(N)\n",
    "Expected Auxiliary Space: O(N)\n",
    "\n",
    "Constraints:\n",
    "1 ≤ N ≤ 105\n",
    "String contains uppercase and lowercase english letters."
   ]
  },
  {
   "cell_type": "code",
   "execution_count": null,
   "metadata": {},
   "outputs": [],
   "source": [
    "class Solution:\n",
    "    \n",
    "\t\n",
    "\tdef removeDuplicates(self,str):\n",
    "\t    # code here\n",
    "\t    alpha = list()\n",
    "\t    for i in str:\n",
    "\t        if i not in alpha:\n",
    "\t            alpha.append(i)\n",
    "\t    \n",
    "\t    return \"\".join(alpha)\n",
    "\n",
    "\n",
    "#{ \n",
    " # Driver Code Starts\n",
    "#Initial Template for Python 3\n",
    "\n",
    "\n",
    "\n",
    "\n",
    "\n",
    "if __name__ == '__main__':\n",
    "    tc = int(input())\n",
    "    while tc > 0:\n",
    "        str = input().strip()\n",
    "        ob = Solution()\n",
    "        ans = ob.removeDuplicates(str)\n",
    "        print(ans)\n",
    "        tc -= 1\n",
    "\n",
    "# } Driver Code Ends"
   ]
  }
 ],
 "metadata": {
  "language_info": {
   "name": "python"
  }
 },
 "nbformat": 4,
 "nbformat_minor": 2
}
