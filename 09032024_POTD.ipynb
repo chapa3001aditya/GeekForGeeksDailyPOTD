{
 "cells": [
  {
   "cell_type": "code",
   "execution_count": null,
   "metadata": {},
   "outputs": [],
   "source": [
    "class Solution:\n",
    "    def nthCharacter(self, s, r, n):\n",
    "        n += 1\n",
    "        f = \"\"\n",
    "        it = 0\n",
    "        l = 0\n",
    "\n",
    "        while l<n:\n",
    "            it += 1\n",
    "            l = it * pow(2, r)\n",
    "        \n",
    "        p = pow(2, r)\n",
    "\n",
    "        n -= 1\n",
    "        n %= p\n",
    "        \n",
    "        if it == 0:\n",
    "            it += 1\n",
    "\n",
    "        f += s[it - 1]\n",
    "\n",
    "        for i in range(r):\n",
    "            s = \"\"\n",
    "            for j in range(len(f)):\n",
    "                if f[j] == '1':\n",
    "                    s += \"10\"\n",
    "                else:\n",
    "                    s += \"01\"\n",
    "\n",
    "        return f[n]\n",
    "\n",
    "\n",
    "#{ \n",
    " # Driver Code Starts\n",
    "#Initial Template for Python 3\n",
    "\n",
    "if __name__ == '__main__':\n",
    "    t = int(input())\n",
    "    for _ in range(t):\n",
    "        snr = input().split()\n",
    "        S, R, N = snr[0], int(snr[1]), int(snr[2])\n",
    "        ob = Solution()\n",
    "        print(ob.nthCharacter(S, R, N))\n",
    "# } Driver Code Ends"
   ]
  }
 ],
 "metadata": {
  "language_info": {
   "name": "python"
  }
 },
 "nbformat": 4,
 "nbformat_minor": 2
}
