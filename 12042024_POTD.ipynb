{
 "cells": [
  {
   "cell_type": "markdown",
   "metadata": {},
   "source": [
    "Sum of Products\n",
    "MediumAccuracy: 50.93%Submissions: 17K+Points: 4\n",
    "Given an array arr[] of size n. Calculate the sum of Bitwise ANDs ie: calculate sum of arr[i] & arr[j] for all the pairs in the given array arr[] where i < j.\n",
    "\n",
    "Example 1:\n",
    "\n",
    "Input:\n",
    "n = 3\n",
    "arr = {5, 10, 15}\n",
    "Output:\n",
    "15\n",
    "Explanation:\n",
    "The bitwise Ands of all pairs where i<j are (5&10) = 0, (5&15) = 5 and (10&15) = 10.\n",
    "Therefore, the total sum = (0+5+10) = 15.\n",
    "Example 2:\n",
    "\n",
    "Input:\n",
    "n = 4\n",
    "arr = {10, 20, 30, 40}\n",
    "Output:\n",
    "46\n",
    "Explanation:\n",
    "The sum of bitwise Ands \n",
    "of all pairs = (0+10+8+20+0+8) = 46.\n",
    "Your Task:\n",
    "You don't need to read input or print anything.Your Task is to complete the function pairAndSum() which takes an Integer n and an array arr[]  of size n as input parameters and returns the sum of bitwise Ands of all pairs.\n",
    "\n",
    "Expected Time Complexity:O(n)\n",
    "Expected Auxillary Space:O(1)\n",
    "\n",
    "Constraints:\n",
    "1 <= n <= 105\n",
    "1 <= arr[i] <= 108\n",
    "\n"
   ]
  },
  {
   "cell_type": "code",
   "execution_count": 4,
   "metadata": {},
   "outputs": [
    {
     "name": "stdout",
     "output_type": "stream",
     "text": [
      "46\n"
     ]
    }
   ],
   "source": [
    "class Solution:\n",
    "    def pairAndSum(self, n, arr):\n",
    "        answer = 0    # the final answer (ie the sum) will be stored here \n",
    "        \n",
    "        # for loop that will iterate over the bits of the binaries of the integers \n",
    "        for i in range(32):\n",
    "            k = 0           # position of the bit to check \n",
    "            # for loop to iterate over the elements of the array \n",
    "            for j in arr: \n",
    "                if (j & (1<<i)):\n",
    "                    k += 1\n",
    "            # find the sum of the pair-wise bit-wise AND and sum of the \n",
    "            answer += (1<<i)*(k*(k-1)//2)\n",
    "                    \n",
    "        #return the answer\n",
    "        return answer\n",
    "                \n",
    "            \n",
    "        \n",
    "\n",
    "\n",
    "#{ \n",
    " # Driver Code Starts\n",
    "#Initial Template for Python 3\n",
    "\n",
    "if __name__=='__main__':\n",
    "    t=int(input())\n",
    "    for _ in range(t):\n",
    "        N=int(input())\n",
    "        Arr=list(map(int,input().strip().split(' ')))\n",
    "        ob=Solution()\n",
    "        print(ob.pairAndSum(N,Arr))\n",
    "# } Driver Code Ends"
   ]
  }
 ],
 "metadata": {
  "kernelspec": {
   "display_name": "base",
   "language": "python",
   "name": "python3"
  },
  "language_info": {
   "codemirror_mode": {
    "name": "ipython",
    "version": 3
   },
   "file_extension": ".py",
   "mimetype": "text/x-python",
   "name": "python",
   "nbconvert_exporter": "python",
   "pygments_lexer": "ipython3",
   "version": "3.10.9"
  }
 },
 "nbformat": 4,
 "nbformat_minor": 2
}
